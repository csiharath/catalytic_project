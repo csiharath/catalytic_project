{
 "cells": [
  {
   "cell_type": "code",
   "execution_count": 14,
   "metadata": {},
   "outputs": [],
   "source": [
    "import pandas as pd\n",
    "import pickle\n",
    "import cobra"
   ]
  },
  {
   "cell_type": "code",
   "execution_count": 21,
   "metadata": {},
   "outputs": [],
   "source": [
    "df_kcat = pd.read_csv(\"../../kcat_prediction_function/predicted_km.csv\", sep=\",\")\n",
    "df_km = pd.read_csv(\"../../KM_prediction_function/predicted_km.csv\", sep=\",\")\n",
    "df_km = df_km.drop('Unnamed: 0', axis=1)\n",
    "df_kcat = df_kcat.drop('Unnamed: 0', axis=1)"
   ]
  },
  {
   "cell_type": "code",
   "execution_count": 22,
   "metadata": {},
   "outputs": [],
   "source": [
    "with open(\"../data/compound.p\", \"rb\") as c:\n",
    "    dict_compounds = pickle.load(c)\n",
    "\n",
    "with open(\"../data/seq.p\", \"rb\") as aa:\n",
    "    dict_aaseq = pickle.load(aa)\n",
    "\n",
    "with open(\"../data/enzyme.p\", \"rb\") as e:\n",
    "    list_enz = pickle.load(e)\n",
    "\n",
    "with open(\"../data/substrat.p\", \"rb\") as s:\n",
    "    list_sub = pickle.load(s)"
   ]
  },
  {
   "cell_type": "code",
   "execution_count": 26,
   "metadata": {},
   "outputs": [],
   "source": [
    "substrate_names_km = []\n",
    "enzyme_name_km = []\n",
    "enzyme_name_kcat = []\n",
    "\n",
    "for index,row in df_km.iterrows():\n",
    "    try:\n",
    "        substrate_names_km.append(dict_compounds[row['substrate']])\n",
    "    except:\n",
    "        print(f\"Warning: No name found for compound ID: {row['substrate']}\")\n",
    "\n",
    "    try:\n",
    "        enzyme_name_km.append(dict_aaseq[row['enzyme']])\n",
    "    except:\n",
    "        print(f\"Warning: No name found for aa sequence of row {index}\")\n",
    "\n",
    "\n",
    "for index,row in df_kcat.iterrows():\n",
    "\n",
    "    try:\n",
    "        enzyme_name_kcat.append(dict_aaseq[row['enzyme']])\n",
    "    except:\n",
    "        print(f\"Warning: No name found for aa sequence of row {index}\")  "
   ]
  },
  {
   "cell_type": "code",
   "execution_count": 27,
   "metadata": {},
   "outputs": [],
   "source": [
    "df_km[\"substrate_id\"] = substrate_names_km\n",
    "df_km['enzyme_id'] = enzyme_name_km\n",
    "\n",
    "df_kcat[\"enzyme_id\"] = enzyme_name_kcat"
   ]
  },
  {
   "cell_type": "code",
   "execution_count": 29,
   "metadata": {},
   "outputs": [],
   "source": [
    "df_km.to_csv(\"../data/km_ccm_ross.csv\")"
   ]
  },
  {
   "cell_type": "code",
   "execution_count": 31,
   "metadata": {},
   "outputs": [],
   "source": [
    "df_kcat.to_csv(\"../data/kcat_ccm_ross.csv\")"
   ]
  },
  {
   "cell_type": "code",
   "execution_count": 38,
   "metadata": {},
   "outputs": [],
   "source": [
    "model = cobra.io.read_sbml_model(\"../data/Models/ccm_ross_updated.xml\")\n",
    "\n",
    "r = model.reactions[15]"
   ]
  },
  {
   "cell_type": "code",
   "execution_count": 41,
   "metadata": {},
   "outputs": [],
   "source": [
    "from viz_utils import print_reactions"
   ]
  },
  {
   "cell_type": "code",
   "execution_count": 44,
   "metadata": {},
   "outputs": [],
   "source": [
    "a, b = print_reactions(r,0,False)"
   ]
  },
  {
   "cell_type": "code",
   "execution_count": 46,
   "metadata": {},
   "outputs": [
    {
     "data": {
      "text/plain": [
       "' Acetaldehyde +  NADH +  H+ <=>  Ethanol +  NAD+'"
      ]
     },
     "execution_count": 46,
     "metadata": {},
     "output_type": "execute_result"
    }
   ],
   "source": [
    "\"\".join(a.split(\"1.0\"))"
   ]
  },
  {
   "cell_type": "code",
   "execution_count": null,
   "metadata": {},
   "outputs": [],
   "source": []
  }
 ],
 "metadata": {
  "kernelspec": {
   "display_name": "Cobrapy_env",
   "language": "python",
   "name": "python3"
  },
  "language_info": {
   "codemirror_mode": {
    "name": "ipython",
    "version": 3
   },
   "file_extension": ".py",
   "mimetype": "text/x-python",
   "name": "python",
   "nbconvert_exporter": "python",
   "pygments_lexer": "ipython3",
   "version": "3.10.6"
  },
  "orig_nbformat": 4
 },
 "nbformat": 4,
 "nbformat_minor": 2
}
