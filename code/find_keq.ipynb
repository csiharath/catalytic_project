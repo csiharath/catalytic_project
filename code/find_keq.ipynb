{
 "cells": [
  {
   "cell_type": "code",
   "execution_count": 1,
   "metadata": {},
   "outputs": [],
   "source": [
    "import viz_utils\n",
    "from equilibrator_api import ComponentContribution, Q_\n",
    "import cobra\n",
    "import numpy as np\n",
    "import pickle\n",
    "from math import exp\n",
    "import requests\n",
    "import importlib"
   ]
  },
  {
   "cell_type": "code",
   "execution_count": 2,
   "metadata": {},
   "outputs": [],
   "source": [
    "importlib.reload(viz_utils)\n",
    "from viz_utils import print_reactions"
   ]
  },
  {
   "cell_type": "code",
   "execution_count": 3,
   "metadata": {},
   "outputs": [],
   "source": [
    "def build_dict_compounds(list_compounds, dict_compounds = {}):\n",
    "    \"\"\"\n",
    "    \"\"\"\n",
    "    for compound in list_compounds:\n",
    "        url = \"http://rest.kegg.jp/get/\"\n",
    "        r = requests.get(url=url+compound)\n",
    "        car = str(r.content)[1]\n",
    "        info = str(r.content).split(car)[1].split('\\\\n')\n",
    "        dict_compounds[compound] = info[1].split(None, 1)[1].split(';')[0]\n",
    "\n",
    "    return dict_compounds"
   ]
  },
  {
   "cell_type": "code",
   "execution_count": 4,
   "metadata": {},
   "outputs": [],
   "source": [
    "cc = ComponentContribution()"
   ]
  },
  {
   "cell_type": "code",
   "execution_count": 5,
   "metadata": {},
   "outputs": [],
   "source": [
    "model = cobra.io.read_sbml_model(\"../data/Models/ccm_ross_updated.xml\")"
   ]
  },
  {
   "cell_type": "code",
   "execution_count": 6,
   "metadata": {},
   "outputs": [],
   "source": [
    "metabolites = [met for met in model.metabolites]"
   ]
  },
  {
   "cell_type": "code",
   "execution_count": 7,
   "metadata": {},
   "outputs": [
    {
     "data": {
      "text/plain": [
       "60"
      ]
     },
     "execution_count": 7,
     "metadata": {},
     "output_type": "execute_result"
    }
   ],
   "source": [
    "len(metabolites)"
   ]
  },
  {
   "cell_type": "code",
   "execution_count": 8,
   "metadata": {},
   "outputs": [
    {
     "data": {
      "text/plain": [
       "69"
      ]
     },
     "execution_count": 8,
     "metadata": {},
     "output_type": "execute_result"
    }
   ],
   "source": [
    "reactions = [react for react in model.reactions]\n",
    "len(reactions)"
   ]
  },
  {
   "cell_type": "code",
   "execution_count": 9,
   "metadata": {},
   "outputs": [],
   "source": [
    "with open(\"../data/compound.p\", 'rb') as c:\n",
    "    dict_compound = pickle.load(c)\n",
    "\n",
    "compounds = list(dict_compound.keys())"
   ]
  },
  {
   "cell_type": "code",
   "execution_count": 10,
   "metadata": {},
   "outputs": [
    {
     "data": {
      "text/plain": [
       "{'C00001': 'H2O',\n",
       " 'C00002': 'ATP',\n",
       " 'C00003': 'NAD+',\n",
       " 'C00004': 'NADH',\n",
       " 'C00005': 'NADPH',\n",
       " 'C00006': 'NADP+',\n",
       " 'C00007': 'Oxygen',\n",
       " 'C00008': 'ADP',\n",
       " 'C00009': 'Orthophosphate',\n",
       " 'C00010': 'CoA',\n",
       " 'C00011': 'CO2',\n",
       " 'C00022': 'Pyruvate',\n",
       " 'C00024': 'Acetyl-CoA',\n",
       " 'C00026': '2-Oxoglutarate',\n",
       " 'C00036': 'Oxaloacetate',\n",
       " 'C00042': 'Succinate',\n",
       " 'C00058': 'Formate',\n",
       " 'C00074': 'Phosphoenolpyruvate',\n",
       " 'C00080': 'H+',\n",
       " 'C00084': 'Acetaldehyde',\n",
       " 'C00085': 'D-Fructose 6-phosphate',\n",
       " 'C00091': 'Succinyl-CoA',\n",
       " 'C00111': 'Glycerone phosphate',\n",
       " 'C00117': 'D-Ribose 5-phosphate',\n",
       " 'C00118': 'D-Glyceraldehyde 3-phosphate',\n",
       " 'C00122': 'Fumarate',\n",
       " 'C00149': '(S)-Malate',\n",
       " 'C00158': 'Citrate',\n",
       " 'C00197': '3-Phospho-D-glycerate',\n",
       " 'C00199': 'D-Ribulose 5-phosphate',\n",
       " 'C00227': 'Acetyl phosphate',\n",
       " 'C00231': 'D-Xylulose 5-phosphate',\n",
       " 'C00236': '3-Phospho-D-glyceroyl phosphate',\n",
       " 'C00311': 'Isocitrate',\n",
       " 'C00345': '6-Phospho-D-gluconate',\n",
       " 'C00354': 'D-Fructose 1,6-bisphosphate',\n",
       " 'C00390': 'Ubiquinol',\n",
       " 'C00399': 'Ubiquinone',\n",
       " 'C00469': 'Ethanol',\n",
       " 'C00631': '2-Phospho-D-glycerate',\n",
       " 'C01236': 'D-Glucono-1,5-lactone 6-phosphate',\n",
       " 'C04442': '2-Dehydro-3-deoxy-6-phospho-D-gluconate',\n",
       " 'C05345': 'beta-D-Fructose 6-phosphate',\n",
       " 'C05378': 'beta-D-Fructose 1,6-bisphosphate',\n",
       " 'C15602': 'Quinone',\n",
       " 'C15603': 'Hydroquinone'}"
      ]
     },
     "execution_count": 10,
     "metadata": {},
     "output_type": "execute_result"
    }
   ],
   "source": [
    "dc = build_dict_compounds(compounds)\n",
    "dc"
   ]
  },
  {
   "cell_type": "code",
   "execution_count": 12,
   "metadata": {},
   "outputs": [
    {
     "data": {
      "text/plain": [
       "46"
      ]
     },
     "execution_count": 12,
     "metadata": {},
     "output_type": "execute_result"
    }
   ],
   "source": [
    "len(dc)"
   ]
  },
  {
   "cell_type": "code",
   "execution_count": 11,
   "metadata": {},
   "outputs": [
    {
     "data": {
      "text/plain": [
       "{'H2O': 'C00001',\n",
       " 'ATP': 'C00002',\n",
       " 'NAD+': 'C00003',\n",
       " 'NADH': 'C00004',\n",
       " 'NADPH': 'C00005',\n",
       " 'NADP+': 'C00006',\n",
       " 'Oxygen': 'C00007',\n",
       " 'ADP': 'C00008',\n",
       " 'Orthophosphate': 'C00009',\n",
       " 'CoA': 'C00010',\n",
       " 'CO2': 'C00011',\n",
       " 'Pyruvate': 'C00022',\n",
       " 'Acetyl-CoA': 'C00024',\n",
       " '2-Oxoglutarate': 'C00026',\n",
       " 'Oxaloacetate': 'C00036',\n",
       " 'Succinate': 'C00042',\n",
       " 'Formate': 'C00058',\n",
       " 'Phosphoenolpyruvate': 'C00074',\n",
       " 'H+': 'C00080',\n",
       " 'Acetaldehyde': 'C00084',\n",
       " 'D-Fructose 6-phosphate': 'C00085',\n",
       " 'Succinyl-CoA': 'C00091',\n",
       " 'Glycerone phosphate': 'C00111',\n",
       " 'D-Ribose 5-phosphate': 'C00117',\n",
       " 'D-Glyceraldehyde 3-phosphate': 'C00118',\n",
       " 'Fumarate': 'C00122',\n",
       " '(S)-Malate': 'C00149',\n",
       " 'Citrate': 'C00158',\n",
       " '3-Phospho-D-glycerate': 'C00197',\n",
       " 'D-Ribulose 5-phosphate': 'C00199',\n",
       " 'Acetyl phosphate': 'C00227',\n",
       " 'D-Xylulose 5-phosphate': 'C00231',\n",
       " '3-Phospho-D-glyceroyl phosphate': 'C00236',\n",
       " 'Isocitrate': 'C00311',\n",
       " '6-Phospho-D-gluconate': 'C00345',\n",
       " 'D-Fructose 1,6-bisphosphate': 'C00354',\n",
       " 'Ubiquinol': 'C00390',\n",
       " 'Ubiquinone': 'C00399',\n",
       " 'Ethanol': 'C00469',\n",
       " '2-Phospho-D-glycerate': 'C00631',\n",
       " 'D-Glucono-1,5-lactone 6-phosphate': 'C01236',\n",
       " '2-Dehydro-3-deoxy-6-phospho-D-gluconate': 'C04442',\n",
       " 'beta-D-Fructose 6-phosphate': 'C05345',\n",
       " 'beta-D-Fructose 1,6-bisphosphate': 'C05378',\n",
       " 'Quinone': 'C15602',\n",
       " 'Hydroquinone': 'C15603'}"
      ]
     },
     "execution_count": 11,
     "metadata": {},
     "output_type": "execute_result"
    }
   ],
   "source": [
    "dict_compound = {name:id for id, name in dc.items()}\n",
    "dict_compound"
   ]
  },
  {
   "cell_type": "code",
   "execution_count": 12,
   "metadata": {},
   "outputs": [],
   "source": [
    "dict_equations = {'name': [], 'list': [], 'id': []}\n",
    "\n",
    "for r in model.reactions:\n",
    "    a, b, c = print_reactions(r,0,False)\n",
    "\n",
    "    eq = ' '.join(c)\n",
    "    dict_equations['name'].append(eq)\n",
    "    dict_equations['list'].append(c)\n",
    "\n",
    "    # metabolites = [m for m in r.metabolites]\n",
    "    # coefficients = [abs(c) for c in r.get_coefficients(metabolites)]\n",
    "    # for coeff in coefficients:\n",
    "    #     a = \"\".join(a.split(str(coeff)+\" \"))\n",
    "    # print(a)\n",
    "    # equations.append(a)   \n"
   ]
  },
  {
   "cell_type": "code",
   "execution_count": 13,
   "metadata": {},
   "outputs": [],
   "source": [
    "# eq_request = []\n",
    "for eq in dict_equations['list']:\n",
    "    new_eq = []\n",
    "    # print(eq)\n",
    "    \n",
    "    for compound in eq:\n",
    "        done = False\n",
    "        if compound in dict_compound:\n",
    "            # print(f'{c}:{dict_compound[c]}')\n",
    "            new_eq.append(f\"kegg:{dict_compound[compound]}\")\n",
    "        elif compound in ['+', '<=>']:\n",
    "            new_eq.append(compound)\n",
    "        else:\n",
    "            dict_equations['id'].append(\"\")\n",
    "            # new_eq.append(compound)\n",
    "            break\n",
    "        done = True\n",
    "    if done and len(new_eq) > 1:\n",
    "        dict_equations['id'].append(' '.join(new_eq))\n",
    "    "
   ]
  },
  {
   "cell_type": "code",
   "execution_count": 14,
   "metadata": {},
   "outputs": [
    {
     "name": "stdout",
     "output_type": "stream",
     "text": [
      "No results from equilibrator for ACETATE-ext <=>\n",
      "No results from equilibrator for \n",
      "No results from equilibrator for CO2-ext <=>\n",
      "No results from equilibrator for \n",
      "No results from equilibrator for ETOH-ext <=>\n",
      "No results from equilibrator for \n",
      "No results from equilibrator for FORMATE-ext <=>\n",
      "No results from equilibrator for \n",
      "No results from equilibrator for GLU-ext <=>\n",
      "No results from equilibrator for \n",
      "No results from equilibrator for LACTATE-ext <=>\n",
      "No results from equilibrator for \n",
      "No results from equilibrator for OXY-ext <=>\n",
      "No results from equilibrator for \n",
      "No results from equilibrator for H-ext <=>\n",
      "No results from equilibrator for \n",
      "No results from equilibrator for SUCC-ext <=>\n",
      "No results from equilibrator for \n",
      "No results from equilibrator for H2O <=>\n",
      "No results from equilibrator for kegg:C00001 <=>\n",
      "No results from equilibrator for Orthophosphate <=>\n",
      "No results from equilibrator for kegg:C00009 <=>\n",
      "No results from equilibrator for BIOMASS <=>\n",
      "No results from equilibrator for \n"
     ]
    }
   ],
   "source": [
    "for index in range(len(dict_equations['name'])):\n",
    "    try:\n",
    "        reaction = cc.search_reaction(dict_equations['name'][index])\n",
    "        # print(f\"Results from equilibrator for {dict_equations['name'][index]}\")\n",
    "        # dg = cc.standard_dg_prime(reaction)\n",
    "        # print(exp(-((dg.value)/cc.RT)))\n",
    "    except:\n",
    "        # print(f\"Trying {dict_equations['id'][index]}\")\n",
    "        try:\n",
    "            reaction = cc.search_reaction(dict_equations['id'][index])\n",
    "            # print(reaction)\n",
    "            # dg = cc.standard_dg_prime(reaction)\n",
    "            # print(exp(-((dg.value)/cc.RT)))\n",
    "            # print(f\"Results from equilibrator for {dict_equations['name'][index]}\")\n",
    "        except:\n",
    "            print(f\"No results from equilibrator for {dict_equations['name'][index]}\")\n",
    "            print(f\"No results from equilibrator for {dict_equations['id'][index]}\")\n",
    "    # dg = cc.sta"
   ]
  },
  {
   "cell_type": "code",
   "execution_count": 202,
   "metadata": {},
   "outputs": [
    {
     "ename": "ParseException",
     "evalue": "Non-specific reaction: Acetyl phosphate + ADP",
     "output_type": "error",
     "traceback": [
      "\u001b[1;31m---------------------------------------------------------------------------\u001b[0m",
      "\u001b[1;31mValueError\u001b[0m                                Traceback (most recent call last)",
      "File \u001b[1;32mc:\\Users\\home\\anaconda3\\envs\\Cobrapy_env\\lib\\site-packages\\equilibrator_cache\\reaction.py:215\u001b[0m, in \u001b[0;36mReaction.parse_formula_side\u001b[1;34m(s, str_to_compound)\u001b[0m\n\u001b[0;32m    214\u001b[0m \u001b[39mtry\u001b[39;00m:\n\u001b[1;32m--> 215\u001b[0m     amount \u001b[39m=\u001b[39m \u001b[39mfloat\u001b[39;49m(tokens[\u001b[39m0\u001b[39;49m])\n\u001b[0;32m    216\u001b[0m \u001b[39mexcept\u001b[39;00m \u001b[39mValueError\u001b[39;00m:\n",
      "\u001b[1;31mValueError\u001b[0m: could not convert string to float: 'Acetyl'",
      "\nDuring handling of the above exception, another exception occurred:\n",
      "\u001b[1;31mParseException\u001b[0m                            Traceback (most recent call last)",
      "Cell \u001b[1;32mIn[202], line 1\u001b[0m\n\u001b[1;32m----> 1\u001b[0m r \u001b[39m=\u001b[39m cc\u001b[39m.\u001b[39;49mparse_reaction_formula(\u001b[39m'\u001b[39;49m\u001b[39mAcetyl phosphate + ADP <=> Acetate + ATP\u001b[39;49m\u001b[39m'\u001b[39;49m)\n",
      "File \u001b[1;32mc:\\Users\\home\\anaconda3\\envs\\Cobrapy_env\\lib\\site-packages\\equilibrator_api\\component_contribution.py:321\u001b[0m, in \u001b[0;36mComponentContribution.parse_reaction_formula\u001b[1;34m(self, formula)\u001b[0m\n\u001b[0;32m    309\u001b[0m \u001b[39mdef\u001b[39;00m \u001b[39mparse_reaction_formula\u001b[39m(\u001b[39mself\u001b[39m, formula: \u001b[39mstr\u001b[39m) \u001b[39m-\u001b[39m\u001b[39m>\u001b[39m PhasedReaction:\n\u001b[0;32m    310\u001b[0m \u001b[39m    \u001b[39m\u001b[39m\"\"\"Parse reaction text using exact match.\u001b[39;00m\n\u001b[0;32m    311\u001b[0m \n\u001b[0;32m    312\u001b[0m \u001b[39m    Parameters\u001b[39;00m\n\u001b[1;32m   (...)\u001b[0m\n\u001b[0;32m    319\u001b[0m \u001b[39m    rxn : PhasedReaction\u001b[39;00m\n\u001b[0;32m    320\u001b[0m \u001b[39m    \"\"\"\u001b[39;00m\n\u001b[1;32m--> 321\u001b[0m     \u001b[39mreturn\u001b[39;00m PhasedReaction\u001b[39m.\u001b[39;49mparse_formula(\u001b[39mself\u001b[39;49m\u001b[39m.\u001b[39;49mccache\u001b[39m.\u001b[39;49mget_compound, formula)\n",
      "File \u001b[1;32mc:\\Users\\home\\anaconda3\\envs\\Cobrapy_env\\lib\\site-packages\\equilibrator_cache\\reaction.py:279\u001b[0m, in \u001b[0;36mReaction.parse_formula\u001b[1;34m(cls, str_to_compound, formula, rid)\u001b[0m\n\u001b[0;32m    276\u001b[0m right \u001b[39m=\u001b[39m tokens[\u001b[39m1\u001b[39m]\u001b[39m.\u001b[39mstrip()\n\u001b[0;32m    278\u001b[0m sparse_reaction \u001b[39m=\u001b[39m {}\n\u001b[1;32m--> 279\u001b[0m left_dict \u001b[39m=\u001b[39m Reaction\u001b[39m.\u001b[39;49mparse_formula_side(left, str_to_compound)\n\u001b[0;32m    280\u001b[0m right_dict \u001b[39m=\u001b[39m Reaction\u001b[39m.\u001b[39mparse_formula_side(right, str_to_compound)\n\u001b[0;32m    281\u001b[0m \u001b[39mfor\u001b[39;00m cid, count \u001b[39min\u001b[39;00m left_dict\u001b[39m.\u001b[39mitems():\n",
      "File \u001b[1;32mc:\\Users\\home\\anaconda3\\envs\\Cobrapy_env\\lib\\site-packages\\equilibrator_cache\\reaction.py:217\u001b[0m, in \u001b[0;36mReaction.parse_formula_side\u001b[1;34m(s, str_to_compound)\u001b[0m\n\u001b[0;32m    215\u001b[0m         amount \u001b[39m=\u001b[39m \u001b[39mfloat\u001b[39m(tokens[\u001b[39m0\u001b[39m])\n\u001b[0;32m    216\u001b[0m     \u001b[39mexcept\u001b[39;00m \u001b[39mValueError\u001b[39;00m:\n\u001b[1;32m--> 217\u001b[0m         \u001b[39mraise\u001b[39;00m ParseException(\u001b[39mf\u001b[39m\u001b[39m\"\u001b[39m\u001b[39mNon-specific reaction: \u001b[39m\u001b[39m{\u001b[39;00ms\u001b[39m}\u001b[39;00m\u001b[39m\"\u001b[39m)\n\u001b[0;32m    218\u001b[0m     compound \u001b[39m=\u001b[39m str_to_compound(tokens[\u001b[39m1\u001b[39m])\n\u001b[0;32m    220\u001b[0m \u001b[39mif\u001b[39;00m compound \u001b[39mis\u001b[39;00m \u001b[39mNone\u001b[39;00m:\n",
      "\u001b[1;31mParseException\u001b[0m: Non-specific reaction: Acetyl phosphate + ADP"
     ]
    }
   ],
   "source": [
    "r = cc.parse_reaction_formula('Acetyl phosphate + ADP <=> Acetate + ATP')"
   ]
  },
  {
   "cell_type": "code",
   "execution_count": 64,
   "metadata": {},
   "outputs": [],
   "source": [
    "dg = cc.standard_dg_prime(r)"
   ]
  },
  {
   "cell_type": "code",
   "execution_count": 17,
   "metadata": {},
   "outputs": [
    {
     "data": {
      "text/plain": [
       "['Citrate', '<=>  Isocitrate']"
      ]
     },
     "execution_count": 17,
     "metadata": {},
     "output_type": "execute_result"
    }
   ],
   "source": [
    "'Citrate <=>  Isocitrate'.split(None, 1)"
   ]
  },
  {
   "cell_type": "code",
   "execution_count": 79,
   "metadata": {},
   "outputs": [
    {
     "data": {
      "text/plain": [
       "0.00023739205221358383"
      ]
     },
     "execution_count": 79,
     "metadata": {},
     "output_type": "execute_result"
    }
   ],
   "source": [
    "exp(-((dg.value)/cc.RT))"
   ]
  },
  {
   "cell_type": "code",
   "execution_count": 22,
   "metadata": {},
   "outputs": [],
   "source": [
    "import re\n",
    "\n",
    "pattern = re.compile('(?P<reac>\\w*) *(?P<op>\\w*) *(?P<prod>\\w*)')\n"
   ]
  },
  {
   "cell_type": "code",
   "execution_count": 23,
   "metadata": {},
   "outputs": [
    {
     "data": {
      "text/plain": [
       "[('', '', 'Isocitrate')]"
      ]
     },
     "execution_count": 23,
     "metadata": {},
     "output_type": "execute_result"
    }
   ],
   "source": [
    "\n",
    "re.findall(pattern, 'Citrate <=>  Isocitrate')\n"
   ]
  },
  {
   "cell_type": "code",
   "execution_count": null,
   "metadata": {},
   "outputs": [],
   "source": []
  },
  {
   "cell_type": "code",
   "execution_count": null,
   "metadata": {},
   "outputs": [],
   "source": []
  },
  {
   "cell_type": "code",
   "execution_count": null,
   "metadata": {},
   "outputs": [],
   "source": []
  }
 ],
 "metadata": {
  "kernelspec": {
   "display_name": "Python 3",
   "language": "python",
   "name": "python3"
  },
  "language_info": {
   "codemirror_mode": {
    "name": "ipython",
    "version": 3
   },
   "file_extension": ".py",
   "mimetype": "text/x-python",
   "name": "python",
   "nbconvert_exporter": "python",
   "pygments_lexer": "ipython3",
   "version": "3.8.16"
  },
  "orig_nbformat": 4
 },
 "nbformat": 4,
 "nbformat_minor": 2
}
